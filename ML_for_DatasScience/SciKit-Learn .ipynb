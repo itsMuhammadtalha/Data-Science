{
 "cells": [
  {
   "cell_type": "markdown",
   "id": "d530fea8",
   "metadata": {},
   "source": [
    "## Some Basic Practices and numpy revision"
   ]
  },
  {
   "cell_type": "code",
   "execution_count": 7,
   "id": "3cdf464c",
   "metadata": {},
   "outputs": [],
   "source": [
    "import numpy as np \n",
    "import scipy\n",
    "import matplotlib\n",
    "import sklearn\n",
    "import pandas\n"
   ]
  },
  {
   "cell_type": "code",
   "execution_count": 4,
   "id": "3a4c541d",
   "metadata": {},
   "outputs": [
    {
     "data": {
      "text/plain": [
       "['C:\\\\Users\\\\mehmo\\\\anaconda3\\\\lib\\\\site-packages\\\\numpy']"
      ]
     },
     "execution_count": 4,
     "metadata": {},
     "output_type": "execute_result"
    }
   ],
   "source": [
    "numpy.__path__"
   ]
  },
  {
   "cell_type": "code",
   "execution_count": 5,
   "id": "bc95be23",
   "metadata": {},
   "outputs": [
    {
     "data": {
      "text/plain": [
       "'1.21.5'"
      ]
     },
     "execution_count": 5,
     "metadata": {},
     "output_type": "execute_result"
    }
   ],
   "source": [
    "numpy.__version__"
   ]
  },
  {
   "cell_type": "code",
   "execution_count": 8,
   "id": "a7c8123a",
   "metadata": {},
   "outputs": [
    {
     "data": {
      "text/plain": [
       "array([[1, 1, 1, 1],\n",
       "       [1, 1, 1, 1],\n",
       "       [1, 1, 1, 1]], dtype=int64)"
      ]
     },
     "execution_count": 8,
     "metadata": {},
     "output_type": "execute_result"
    }
   ],
   "source": [
    "np.ones(shape=(3,4) , dtype=np.int64)"
   ]
  },
  {
   "cell_type": "code",
   "execution_count": 12,
   "id": "52106648",
   "metadata": {},
   "outputs": [],
   "source": [
    "a = np.array([0,1,2,3,4,5,6,7,8,9,10,11])"
   ]
  },
  {
   "cell_type": "code",
   "execution_count": 14,
   "id": "659e00d5",
   "metadata": {},
   "outputs": [
    {
     "data": {
      "text/plain": [
       "array([[ 0,  1,  2,  3],\n",
       "       [ 4,  5,  6,  7],\n",
       "       [ 8,  9, 10, 11]])"
      ]
     },
     "execution_count": 14,
     "metadata": {},
     "output_type": "execute_result"
    }
   ],
   "source": [
    "b = a.reshape(3,4)\n",
    "b"
   ]
  },
  {
   "cell_type": "code",
   "execution_count": 15,
   "id": "58a8e9b6",
   "metadata": {},
   "outputs": [],
   "source": [
    "a[5:] = 0 "
   ]
  },
  {
   "cell_type": "code",
   "execution_count": 16,
   "id": "389f1a9f",
   "metadata": {},
   "outputs": [
    {
     "data": {
      "text/plain": [
       "array([0, 1, 2, 3, 4, 0, 0, 0, 0, 0, 0, 0])"
      ]
     },
     "execution_count": 16,
     "metadata": {},
     "output_type": "execute_result"
    }
   ],
   "source": [
    "a"
   ]
  },
  {
   "cell_type": "code",
   "execution_count": 17,
   "id": "5e1cb994",
   "metadata": {},
   "outputs": [
    {
     "data": {
      "text/plain": [
       "array([[0, 1, 2, 3],\n",
       "       [4, 0, 0, 0],\n",
       "       [0, 0, 0, 0]])"
      ]
     },
     "execution_count": 17,
     "metadata": {},
     "output_type": "execute_result"
    }
   ],
   "source": [
    "b"
   ]
  },
  {
   "cell_type": "code",
   "execution_count": 18,
   "id": "457fc20c",
   "metadata": {},
   "outputs": [],
   "source": [
    "# the b is also changed bcz the pointer pointing to a and b are same "
   ]
  },
  {
   "cell_type": "code",
   "execution_count": 21,
   "id": "cf0f5d1e",
   "metadata": {},
   "outputs": [
    {
     "data": {
      "text/plain": [
       "array([0, 1, 2, 3, 4, 0, 0, 0, 0, 0, 0, 0, 0, 1, 2, 3, 4, 0, 0, 0, 0, 0,\n",
       "       0, 0])"
      ]
     },
     "execution_count": 21,
     "metadata": {},
     "output_type": "execute_result"
    }
   ],
   "source": [
    "np.concatenate([a, a])"
   ]
  },
  {
   "cell_type": "code",
   "execution_count": 24,
   "id": "2e1bc3dc",
   "metadata": {},
   "outputs": [
    {
     "data": {
      "text/plain": [
       "array([[0, 1, 2, 3, 4, 0, 0, 0, 0, 0, 0, 0],\n",
       "       [0, 1, 2, 3, 4, 0, 0, 0, 0, 0, 0, 0]])"
      ]
     },
     "execution_count": 24,
     "metadata": {},
     "output_type": "execute_result"
    }
   ],
   "source": [
    "np.vstack([a,a])  # vertical stack "
   ]
  },
  {
   "cell_type": "code",
   "execution_count": 25,
   "id": "9da0d9ef",
   "metadata": {},
   "outputs": [
    {
     "data": {
      "text/plain": [
       "array([0, 1, 2, 3, 4, 0, 0, 0, 0, 0, 0, 0, 0, 1, 2, 3, 4, 0, 0, 0, 0, 0,\n",
       "       0, 0])"
      ]
     },
     "execution_count": 25,
     "metadata": {},
     "output_type": "execute_result"
    }
   ],
   "source": [
    "np.hstack([a,a])  "
   ]
  },
  {
   "cell_type": "markdown",
   "id": "d7f858ec",
   "metadata": {},
   "source": [
    "## Matplotlib"
   ]
  },
  {
   "cell_type": "code",
   "execution_count": 27,
   "id": "b7d7c072",
   "metadata": {},
   "outputs": [],
   "source": [
    "%matplotlib inline "
   ]
  },
  {
   "cell_type": "code",
   "execution_count": 28,
   "id": "836144d1",
   "metadata": {},
   "outputs": [],
   "source": [
    "import matplotlib.pyplot as plt "
   ]
  },
  {
   "cell_type": "code",
   "execution_count": 30,
   "id": "f84b368a",
   "metadata": {},
   "outputs": [],
   "source": [
    "x = np.linspace(0 , 2 , 10) \n",
    "# from 0 to 1 give me 10 points \n"
   ]
  },
  {
   "cell_type": "code",
   "execution_count": 31,
   "id": "007de6ba",
   "metadata": {},
   "outputs": [
    {
     "data": {
      "text/plain": [
       "array([0.        , 0.22222222, 0.44444444, 0.66666667, 0.88888889,\n",
       "       1.11111111, 1.33333333, 1.55555556, 1.77777778, 2.        ])"
      ]
     },
     "execution_count": 31,
     "metadata": {},
     "output_type": "execute_result"
    }
   ],
   "source": [
    "x"
   ]
  },
  {
   "cell_type": "code",
   "execution_count": 40,
   "id": "726cf96f",
   "metadata": {},
   "outputs": [
    {
     "data": {
      "image/png": "[encoded data removed]",
      "text/plain": [
       "<Figure size 432x288 with 1 Axes>"
      ]
     },
     "metadata": {
      "needs_background": "light"
     },
     "output_type": "display_data"
    }
   ],
   "source": [
    "plt.plot(x , 'o-');"
   ]
  },
  {
   "cell_type": "code",
   "execution_count": 48,
   "id": "f8e7fda8",
   "metadata": {
    "scrolled": true
   },
   "outputs": [
    {
     "data": {
      "image/png": "[encoded data removed]",
      "text/plain": [
       "<Figure size 432x288 with 1 Axes>"
      ]
     },
     "metadata": {
      "needs_background": "light"
     },
     "output_type": "display_data"
    }
   ],
   "source": [
    "plt.plot(x,x , 'o-' , label='linear')\n",
    "\n",
    "plt.plot(x, x**2 , 'x-' , label=\"quadratic\")\n",
    "\n",
    "plt.legend(loc='best')\n",
    "\n",
    "plt.title(\"linear vs quadratic progression\")\n",
    "\n",
    "plt.xlabel('input')\n",
    "\n",
    "plt.ylabel('output');"
   ]
  },
  {
   "cell_type": "code",
   "execution_count": 51,
   "id": "3b9edd5c",
   "metadata": {},
   "outputs": [],
   "source": [
    "samples = np.random.normal(loc = 1.0 , scale= 0.5 , size = 1000)"
   ]
  },
  {
   "cell_type": "code",
   "execution_count": 52,
   "id": "90d8363b",
   "metadata": {},
   "outputs": [
    {
     "data": {
      "text/plain": [
       "(1000,)"
      ]
     },
     "execution_count": 52,
     "metadata": {},
     "output_type": "execute_result"
    }
   ],
   "source": [
    "samples.shape"
   ]
  },
  {
   "cell_type": "code",
   "execution_count": 53,
   "id": "680ae0bb",
   "metadata": {},
   "outputs": [
    {
     "data": {
      "text/plain": [
       "array([ 1.02142231,  0.40568172,  0.47111799,  0.77835094,  1.20530229,\n",
       "        1.70739412,  1.15419483,  0.50342726,  1.56792804,  1.03738773,\n",
       "        1.28011396,  0.87176262,  1.13382912,  0.27582366,  2.04381077,\n",
       "        0.49636973,  0.31974548,  0.13553349,  0.23245832,  1.01047036,\n",
       "        0.33262005,  0.16408402,  0.94283102,  1.60622213,  1.38407555,\n",
       "        1.01474353,  0.86161397,  0.59714145,  0.68504251,  0.60115332,\n",
       "        1.92319048,  1.24390404,  0.33013893,  1.32083064,  1.07857094,\n",
       "        1.1798917 ,  1.41067233,  1.29235122,  0.81621634,  1.03879375,\n",
       "        1.58923061,  0.61228815,  1.21538561,  1.30519419,  0.84790369,\n",
       "        1.06246989,  1.43457841,  0.61139173,  1.03034635,  1.7524535 ,\n",
       "        0.81715302,  0.83394459,  1.41621299,  0.85606604,  1.71950568,\n",
       "        1.07601246,  0.24791204,  0.47876616,  0.76182889,  0.15607177,\n",
       "        0.95487555,  0.92858158,  0.91961731,  1.2361642 ,  1.31154793,\n",
       "        1.48167859,  1.30402562,  1.43812566,  0.57773718,  1.33302149,\n",
       "        1.16847774, -0.03507865,  1.20024679,  1.42359416,  0.77396385,\n",
       "        0.64222801,  1.25368377,  0.55736335,  1.66057975,  0.51091367,\n",
       "        1.01770099,  0.94010665,  1.51219774,  1.12532183,  1.6347916 ,\n",
       "        1.16774345,  0.17436688,  1.19927046,  0.74978143,  1.47869206,\n",
       "        1.09692901,  0.66392019,  0.91722991,  0.52444335,  1.65305188,\n",
       "        1.21847757,  0.63849038,  1.62929815,  1.14592787,  1.42358335,\n",
       "        2.07058683,  0.02180742,  0.74229695,  0.79212757,  0.72010303,\n",
       "        1.20503716, -0.3770662 ,  1.12006974, -0.14296734,  0.399407  ,\n",
       "        1.27391886,  0.74889513,  0.73153011,  0.67672248,  0.94071756,\n",
       "        0.73140501,  1.69699673,  1.9338091 ,  0.55513725,  1.3867141 ,\n",
       "        0.93491697,  0.33740957,  0.39014657,  1.61993789,  0.21255276,\n",
       "        1.50497038,  1.56816935,  1.12759486,  1.26523891,  0.75088818,\n",
       "        0.72694364,  0.7902954 ,  1.42994468,  0.48064333,  0.85533193,\n",
       "        1.77183373,  1.26032689,  0.83951191,  1.20387896,  1.09147585,\n",
       "        1.31018525,  1.50117087,  1.10303273,  1.32955146,  0.49767569,\n",
       "        1.11619209,  1.31515517, -0.10680782,  0.42591562,  0.57312749,\n",
       "        0.91998152,  0.74161568,  1.64777224,  0.62354882,  1.40063523,\n",
       "        0.89019939,  0.2392881 ,  0.80179397,  1.55930205,  0.56910165,\n",
       "        1.12597313,  1.45699671,  0.07107184,  0.94800333,  1.09817244,\n",
       "        1.01781254,  1.0059211 ,  0.93917243,  1.03706126,  1.63451573,\n",
       "        1.19120776,  1.26060636,  0.6942622 ,  0.86617839,  1.98111519,\n",
       "        0.92517827,  1.25324091,  0.82492837,  0.06399244,  0.92021729,\n",
       "        1.1291544 ,  1.21966876,  1.50516281,  1.15095141,  2.03263812,\n",
       "        1.05312414,  1.43222611,  1.16637713,  1.12992708,  1.48154833,\n",
       "        1.48012328,  0.88305397,  1.07061994,  0.48677438,  0.50948217,\n",
       "        1.04691098,  1.13030988,  0.32747804,  0.99371825,  0.29057117,\n",
       "        0.38312753,  0.24830531,  1.55311556,  2.19545976,  1.16593302,\n",
       "        1.24949698,  1.25841268,  1.3047409 ,  1.27700154,  1.85294314,\n",
       "        1.14621963,  1.36734188,  0.88897123,  1.15917841,  1.49140423,\n",
       "        0.62012399,  0.8459972 ,  1.4527618 ,  1.12029385,  1.35246984,\n",
       "        0.39827914,  0.85648391,  1.50631078,  0.87475457,  0.6745555 ,\n",
       "        0.95506953,  1.74394353,  0.68751666,  0.88781151,  1.89845577,\n",
       "        1.21409514,  1.15746068,  1.16666474,  0.53693674,  0.3372744 ,\n",
       "        1.70848615,  1.60263283,  0.82459775,  0.19285262,  0.50192263,\n",
       "        1.06694347,  0.52332711,  1.40745693,  1.00122834,  1.21375819,\n",
       "        1.67945108,  0.84020046,  1.62586239,  1.57303234,  0.96909938,\n",
       "        0.11378941,  0.1890772 ,  1.19822935,  1.58019993,  1.57586217,\n",
       "        0.72912614,  0.60125986,  0.85620806,  1.12915443,  0.82288445,\n",
       "        1.88412769,  1.98045244,  1.39520482,  1.13064394,  1.49657166,\n",
       "        0.64185005,  0.5007704 ,  0.64496139,  0.73394915,  0.12741003,\n",
       "        1.32623674,  0.50258817,  1.3378309 ,  0.69286673,  0.34680243,\n",
       "        0.76181357,  1.13560646,  0.86555826,  0.69078527,  1.85000559,\n",
       "        0.39406653,  0.58379403,  0.86997197,  1.60107369,  1.03101404,\n",
       "        1.49300007,  1.16909958,  1.1558073 ,  1.2771957 ,  1.50902562,\n",
       "        0.89970003,  1.5327541 ,  0.78238666,  1.34980361,  0.88542091,\n",
       "        1.3989522 ,  1.49555152,  0.97725274,  0.52706044,  0.44509158,\n",
       "        0.96539449,  1.86450916,  2.12577825,  1.31608494,  0.95961006,\n",
       "        0.60080005,  1.39253882,  0.3490496 ,  1.22654731,  0.62125291,\n",
       "        1.32279436,  1.28739131,  0.76346039,  0.69836711,  0.2808483 ,\n",
       "        0.93468505,  1.39357911,  0.44842394,  0.65341695,  1.24923544,\n",
       "        0.74783026,  1.10815386,  0.3487065 ,  0.70800793,  0.09100225,\n",
       "       -0.43750701,  1.29189727,  0.54178934,  1.20058711,  1.15158029,\n",
       "        1.72238583,  0.71978613,  0.60366966,  1.16707365,  0.58709435,\n",
       "        0.42205909,  1.89037846,  1.07760675,  0.48740117,  0.89526541,\n",
       "        0.41707146,  0.29538726,  0.35145504,  0.19257059,  1.39435062,\n",
       "        0.70084307,  0.87546655,  1.35004389,  0.91354872,  1.26097458,\n",
       "        1.21316151,  1.05752472,  0.34859466,  0.26375843,  1.56618853,\n",
       "        1.03590843,  1.42932619,  0.40001643,  1.25351231,  0.45841263,\n",
       "        1.16223422, -0.15438455,  1.84252598,  0.74230198,  1.13582505,\n",
       "        0.56042415,  0.57702708,  0.77199506,  1.00825538,  0.29243888,\n",
       "        0.66135516,  0.13675807,  1.70285645,  0.68959726,  1.15151508,\n",
       "        0.68579048,  0.81649177,  1.07643245,  1.07185069,  0.53206797,\n",
       "        0.19271056,  0.63112988, -0.06491719,  0.32878072,  1.47039161,\n",
       "        0.2535723 ,  1.66166356,  0.78398374,  1.88227926,  1.14750477,\n",
       "        1.0723193 ,  1.27711095,  2.03556131,  1.40279319,  1.5032184 ,\n",
       "        1.19335933,  1.7434295 ,  2.35790425,  0.71753554,  2.00069668,\n",
       "        1.57993146,  0.86067382,  1.04745911,  1.67351994, -0.19811913,\n",
       "        1.6524995 ,  0.24248999,  0.94677218,  1.48692542,  1.10708671,\n",
       "        0.88880118,  0.75653485,  0.14101856,  0.6916062 ,  0.63466044,\n",
       "        0.76592248,  0.86899982,  0.93742982,  0.88797528,  0.62958124,\n",
       "        0.99663346,  1.01440551,  1.47217375,  0.68532505,  1.49859943,\n",
       "       -0.07987578,  1.27259912,  1.35378327,  0.22599263,  1.27158093,\n",
       "        0.82003558,  0.81358673,  0.83046859,  0.73729032,  2.56210495,\n",
       "        1.13052631,  0.72684828,  0.75790708,  0.69981346,  1.29965059,\n",
       "        1.34185963,  0.84653766,  1.57166859,  1.27039507,  0.57006617,\n",
       "        1.21937499,  1.31084151,  0.40458115,  1.48910549,  1.42864897,\n",
       "        2.49309083,  1.26510615,  0.18633812,  0.55496962,  1.3448541 ,\n",
       "        1.61025856,  1.23059436,  1.07000836,  1.04618366,  0.8338235 ,\n",
       "        0.83078756,  1.31361577,  1.51208854,  1.76158749,  0.34908183,\n",
       "        0.14266422,  1.10196874,  1.64276932,  1.29309286,  0.59208681,\n",
       "        0.57718268,  1.44403836,  1.00837844,  0.2646149 ,  0.74978112,\n",
       "        0.94109161,  0.72542078,  1.3784385 ,  0.45483416,  1.03276023,\n",
       "        1.14484502,  0.70719288,  1.25276486,  0.55131747,  0.38910748,\n",
       "        0.62109691,  1.15111474,  0.73446669,  0.26783928,  1.29127722,\n",
       "        1.51110804,  1.06347613,  0.4074753 ,  1.39389297,  1.54773222,\n",
       "        1.11042573,  0.89707308,  0.70710555, -0.05391392,  0.70221156,\n",
       "        1.29295914,  0.82782711,  1.16144038,  1.43660515,  0.03369704,\n",
       "        0.13671104,  1.01767302,  1.05383275,  1.36665877,  1.58416107,\n",
       "        1.60667243,  0.84934676,  0.85688833,  1.33202105,  2.26906428,\n",
       "        1.80163712,  1.01272581,  0.68930866,  0.85365902,  0.95821137,\n",
       "        0.84930049,  1.07951406,  0.99559528,  1.61770612, -0.08273866,\n",
       "        1.06793653,  1.16071931,  1.52066607,  0.26869475,  0.52325356,\n",
       "        0.06990257,  0.68753956,  0.35191701,  1.97374743,  1.52353781,\n",
       "        1.37454999,  1.14765473,  1.56162778,  0.96917641,  0.47632425,\n",
       "        1.37702086, -0.1143588 ,  0.47597598,  0.23815534,  0.13842403,\n",
       "        0.80285806,  1.24138806,  0.92450156,  0.42924408,  1.46217788,\n",
       "        1.22178438,  1.23363204,  1.18047775,  1.80263166, -0.13685512,\n",
       "        1.10536298,  0.57998291,  1.1045542 ,  1.11463977,  0.06661603,\n",
       "        1.70719966,  0.88345203,  1.17657805,  0.00268228,  1.19054371,\n",
       "        0.91901704,  1.05754458,  2.07471889,  1.65210846,  0.88583389,\n",
       "        0.02455687,  0.91726132,  1.3383113 ,  2.35948105,  1.40504682,\n",
       "        1.07016424,  0.19815352,  0.8704524 ,  0.76030597,  0.39793936,\n",
       "        0.33212372,  0.8655129 ,  0.57053424,  1.29672749,  2.26508296,\n",
       "        1.34315223,  1.45819517,  0.17619403,  0.05795694,  0.92233707,\n",
       "        0.64367855, -0.28490443,  1.55147809,  0.94090526,  0.49749357,\n",
       "        1.16252518,  1.67763839,  1.06643668,  1.4259883 ,  1.06003256,\n",
       "        0.64994194,  1.10701191,  1.47896662,  1.12314486,  2.14056874,\n",
       "        1.18955681,  0.85897508,  1.5706971 ,  2.0947178 ,  0.97480288,\n",
       "        0.24336635,  0.2204746 ,  0.93892193, -0.19716027,  0.99403788,\n",
       "        0.45872071,  1.07757346,  1.35202391,  0.93531557,  0.99292381,\n",
       "        1.1333148 ,  1.08789009,  1.03388151,  1.36084215,  2.28051814,\n",
       "        0.87717143,  0.10304612,  1.1753799 ,  0.87505835,  1.16345994,\n",
       "        1.44400264,  1.03432336,  0.17097786,  0.90832157,  1.0997839 ,\n",
       "        0.34077885,  0.33413   ,  0.45194108, -0.22359762,  1.16495777,\n",
       "        0.78011756,  0.8174273 ,  1.34375147,  1.73390378,  1.45836224,\n",
       "        1.06920288,  1.1680885 ,  1.06753978,  1.11955451, -0.15093847,\n",
       "        1.30784815,  1.8553859 ,  0.726686  ,  1.30636247,  0.50589253,\n",
       "        1.09132747,  0.27571986,  0.56927017,  1.23186001,  1.04155423,\n",
       "        0.98979715,  0.69370247,  0.44107996,  0.95855908,  0.99562748,\n",
       "        0.96069486,  1.17667062,  0.77664878,  0.98730516,  0.4707861 ,\n",
       "        1.11346519,  1.84274403,  0.96454577,  1.65627551,  1.05099554,\n",
       "        0.79753164,  0.31339045,  1.14454862,  0.83129805,  1.74768951,\n",
       "        0.44386825,  0.76037389,  1.28543707,  1.84568864,  0.69731968,\n",
       "        1.13922289,  0.56867991,  0.63078328,  0.51644261,  1.2247147 ,\n",
       "        1.35895015,  1.95389538,  1.83855011,  0.55447905,  0.69505459,\n",
       "        1.22727609,  1.11907828,  1.15731855,  1.77701255,  1.08920478,\n",
       "        0.35700486,  0.95552489, -0.69954174,  0.69221434,  1.41567721,\n",
       "        0.50940226,  0.56303727,  1.37001199,  0.83774205,  0.82205232,\n",
       "       -0.88309599,  1.04134107,  1.18944347,  0.75770404,  1.07315425,\n",
       "        0.32139078,  1.56898609,  1.51122427,  0.15250025,  0.94134791,\n",
       "        1.51301405,  0.53536444,  1.09187304,  1.6033211 ,  0.24180469,\n",
       "        0.72235014,  0.99056013,  0.85949214,  1.57854533,  1.12612652,\n",
       "        0.98016276,  1.14415719,  0.98317102,  0.28004465,  1.56666287,\n",
       "        1.45245856,  0.9972632 ,  0.99169408,  0.9639671 ,  0.43743384,\n",
       "        0.58488898,  1.34354784,  0.73248798,  1.97927378,  0.82339852,\n",
       "        1.20555873,  0.49761131,  0.93346817,  0.94736506,  1.39492677,\n",
       "        0.91717479,  0.38281853,  1.14698273,  0.35931249,  0.32440934,\n",
       "        1.26258087, -0.0382509 ,  0.63735586,  0.84267142,  0.33716771,\n",
       "        1.29707372,  0.62053745,  0.4732281 ,  0.99849707,  1.56916082,\n",
       "        0.28294124,  0.62959735,  0.92499732,  1.73434583,  0.98278196,\n",
       "        1.222155  ,  0.88385558,  0.95557568,  1.43232405,  1.36863936,\n",
       "        0.90437203,  1.11146931, -0.26240895,  1.54510712,  1.52653049,\n",
       "        0.43888957,  0.95900951,  0.99554821,  0.90605094,  1.2739335 ,\n",
       "        0.43097869,  1.61090487,  0.32578986,  1.32984852,  0.65760369,\n",
       "        0.6806196 ,  1.20918963,  0.26249111,  1.2698093 ,  1.02511559,\n",
       "        0.7303476 ,  1.33450833,  1.4322037 ,  0.93350836,  0.78570067,\n",
       "        0.08755966, -0.45704721,  0.14924135,  0.51333355,  0.24440896,\n",
       "        1.14801146,  0.42778163,  0.47903122, -0.39849845,  1.1588526 ,\n",
       "        1.55544466,  0.55641022,  0.96322842,  1.1371215 ,  0.73409299,\n",
       "        0.92155201,  1.36153909,  1.37444067,  1.39430085,  0.96506273,\n",
       "        1.20914154,  1.11358148,  1.18999765, -0.24086558,  2.0189765 ,\n",
       "        0.61760564,  1.01411824,  1.18408449,  0.98822038,  1.20382525,\n",
       "        1.11963319,  1.19959981,  1.52364724,  1.11911102,  1.00240008,\n",
       "        1.0330842 ,  0.24086794,  1.18431061,  0.01536707,  1.33727762,\n",
       "        1.38353987,  1.33721321,  1.28468461,  0.6440546 ,  0.29404806,\n",
       "        0.9356921 ,  0.5831867 ,  0.85808774,  0.40600221,  1.03357358,\n",
       "        1.35059176,  0.58487129,  0.55166127,  0.87264669,  1.07792762,\n",
       "        1.58726262,  0.97960104,  0.8059772 ,  0.97470345,  1.79244135,\n",
       "        0.78088621,  0.79056616,  1.30093941,  1.82635553,  0.91613552,\n",
       "        1.38757178,  1.09444385,  0.94324227,  1.79038053,  0.21569321,\n",
       "        0.44902562,  1.46709803,  0.32128387,  1.13291866,  0.92462016,\n",
       "        1.330366  ,  0.96290839,  1.41435334,  0.99478017,  1.07786673,\n",
       "        1.76622628,  0.08948861,  1.4235609 ,  1.40119923,  1.09464725,\n",
       "        0.94574487,  0.87789122,  0.28840656,  1.85130144,  1.25817585,\n",
       "        0.65743314,  0.37286411,  0.27970096,  0.64779566,  1.84281716,\n",
       "        0.87737058,  1.73093979,  1.02782219,  0.78313443,  0.88696524,\n",
       "        0.87522454,  1.46438276,  1.59517114,  0.59361156,  1.88328627,\n",
       "        1.5614622 ,  0.72905529, -0.35690109,  0.87447041,  0.70613189,\n",
       "        0.98451997,  0.27247099,  1.14184086,  1.14918644,  0.96325786,\n",
       "        1.17622219,  0.57657244,  0.91328087,  0.87463727,  1.75363543,\n",
       "        1.24837539,  1.12199262,  1.97016524,  0.81807362,  0.70686536,\n",
       "        0.98918473,  1.06309542,  1.40758425,  1.10762182,  0.916877  ,\n",
       "        0.63367677,  2.10416446,  0.84011282,  0.7196798 ,  1.4427963 ,\n",
       "        0.58793544,  1.07517888,  0.98418279,  0.34053706,  1.33157797,\n",
       "        0.55309211,  0.60290928,  0.55196619,  2.23589172,  2.18994639,\n",
       "        0.51152342,  0.44836886,  1.21911493,  0.74857712,  1.33354364,\n",
       "        0.86595157,  1.05458086,  1.26008238,  0.76680864,  0.86929525,\n",
       "        0.17337623,  0.66604065,  1.52459799,  0.32532001,  1.17420009,\n",
       "        0.76627475,  0.69183977,  0.93904932,  1.23944935,  1.30964732,\n",
       "        0.98963911,  0.22611148,  1.94760191,  1.407391  ,  0.86518751])"
      ]
     },
     "execution_count": 53,
     "metadata": {},
     "output_type": "execute_result"
    }
   ],
   "source": [
    "samples[30:]"
   ]
  },
  {
   "cell_type": "code",
   "execution_count": 54,
   "id": "4f69a120",
   "metadata": {},
   "outputs": [
    {
     "data": {
      "image/png": "[encoded data removed]",
      "text/plain": [
       "<Figure size 432x288 with 1 Axes>"
      ]
     },
     "metadata": {
      "needs_background": "light"
     },
     "output_type": "display_data"
    }
   ],
   "source": [
    "plt.hist(samples, bins=50);"
   ]
  },
  {
   "cell_type": "code",
   "execution_count": 58,
   "id": "e1944fe7",
   "metadata": {},
   "outputs": [
    {
     "data": {
      "text/plain": [
       "<matplotlib.collections.PathCollection at 0x21c9517f040>"
      ]
     },
     "execution_count": 58,
     "metadata": {},
     "output_type": "execute_result"
    },
    {
     "data": {
      "image/png": "[encoded data removed]",
      "text/plain": [
       "<Figure size 432x288 with 1 Axes>"
      ]
     },
     "metadata": {
      "needs_background": "light"
     },
     "output_type": "display_data"
    }
   ],
   "source": [
    "plt.scatter(samples ,samples, alpha = 0.1)"
   ]
  },
  {
   "cell_type": "code",
   "execution_count": 59,
   "id": "43e27f2b",
   "metadata": {},
   "outputs": [],
   "source": [
    " # scatter plot vs line -> scatter plot donot have order between the data points "
   ]
  },
  {
   "cell_type": "markdown",
   "id": "2d2d93a0",
   "metadata": {},
   "source": [
    "## SciKit-Learn"
   ]
  },
  {
   "cell_type": "code",
   "execution_count": 60,
   "id": "18055db5",
   "metadata": {},
   "outputs": [],
   "source": [
    "%matplotlib inline \n",
    "import numpy as np \n",
    "from matplotlib import pyplot as plt "
   ]
  },
  {
   "cell_type": "code",
   "execution_count": 61,
   "id": "274a7bd6",
   "metadata": {},
   "outputs": [],
   "source": [
    "from sklearn import datasets"
   ]
  },
  {
   "cell_type": "code",
   "execution_count": 63,
   "id": "b7288fde",
   "metadata": {},
   "outputs": [],
   "source": [
    "digits = datasets.load_digits()"
   ]
  },
  {
   "cell_type": "code",
   "execution_count": 64,
   "id": "1fa184b5",
   "metadata": {},
   "outputs": [
    {
     "data": {
      "text/plain": [
       "array([[ 0.,  0.,  5., ...,  0.,  0.,  0.],\n",
       "       [ 0.,  0.,  0., ..., 10.,  0.,  0.],\n",
       "       [ 0.,  0.,  0., ..., 16.,  9.,  0.],\n",
       "       ...,\n",
       "       [ 0.,  0.,  1., ...,  6.,  0.,  0.],\n",
       "       [ 0.,  0.,  2., ..., 12.,  0.,  0.],\n",
       "       [ 0.,  0., 10., ..., 12.,  1.,  0.]])"
      ]
     },
     "execution_count": 64,
     "metadata": {},
     "output_type": "execute_result"
    }
   ],
   "source": [
    "digits.data"
   ]
  },
  {
   "cell_type": "code",
   "execution_count": 65,
   "id": "ebf965ff",
   "metadata": {},
   "outputs": [
    {
     "data": {
      "text/plain": [
       "array([0, 1, 2, ..., 8, 9, 8])"
      ]
     },
     "execution_count": 65,
     "metadata": {},
     "output_type": "execute_result"
    }
   ],
   "source": [
    "digits.target"
   ]
  },
  {
   "cell_type": "code",
   "execution_count": 67,
   "id": "226e4408",
   "metadata": {},
   "outputs": [
    {
     "data": {
      "text/plain": [
       "array([[ 0.,  0.,  5., 13.,  9.,  1.,  0.,  0.],\n",
       "       [ 0.,  0., 13., 15., 10., 15.,  5.,  0.],\n",
       "       [ 0.,  3., 15.,  2.,  0., 11.,  8.,  0.],\n",
       "       [ 0.,  4., 12.,  0.,  0.,  8.,  8.,  0.],\n",
       "       [ 0.,  5.,  8.,  0.,  0.,  9.,  8.,  0.],\n",
       "       [ 0.,  4., 11.,  0.,  1., 12.,  7.,  0.],\n",
       "       [ 0.,  2., 14.,  5., 10., 12.,  0.,  0.],\n",
       "       [ 0.,  0.,  6., 13., 10.,  0.,  0.,  0.]])"
      ]
     },
     "execution_count": 67,
     "metadata": {},
     "output_type": "execute_result"
    }
   ],
   "source": [
    "digits.images[0]"
   ]
  },
  {
   "cell_type": "code",
   "execution_count": 69,
   "id": "5734d307",
   "metadata": {},
   "outputs": [
    {
     "data": {
      "image/png": "[encoded data removed]",
      "text/plain": [
       "<Figure size 432x288 with 1 Axes>"
      ]
     },
     "metadata": {
      "needs_background": "light"
     },
     "output_type": "display_data"
    }
   ],
   "source": [
    "# predicting a number \n",
    "\n",
    "from sklearn import datasets\n",
    "from sklearn.svm import SVC\n",
    "import matplotlib.pyplot as plt\n",
    "\n",
    "# Load the dataset\n",
    "digits = datasets.load_digits()\n",
    "\n",
    "# Create an SVM classifier and fit it to the data\n",
    "svm = SVC()\n",
    "svm.fit(digits.data, digits.target)\n",
    "\n",
    "# Choose an index of the image you want to predict\n",
    "image_index = -1\n",
    "\n",
    "# Predict the number from the image\n",
    "predicted_number = svm.predict([digits.data[image_index]])\n",
    "\n",
    "# Display the image and the predicted number\n",
    "plt.imshow(digits.images[image_index], cmap=plt.cm.gray_r, interpolation='nearest')\n",
    "plt.title(f\"Predicted Number: {predicted_number}\")\n",
    "plt.show()\n"
   ]
  },
  {
   "cell_type": "code",
   "execution_count": null,
   "id": "43de3e33",
   "metadata": {},
   "outputs": [],
   "source": []
  }
 ],
 "metadata": {
  "kernelspec": {
   "display_name": "Python 3 (ipykernel)",
   "language": "python",
   "name": "python3"
  },
  "language_info": {
   "codemirror_mode": {
    "name": "ipython",
    "version": 3
   },
   "file_extension": ".py",
   "mimetype": "text/x-python",
   "name": "python",
   "nbconvert_exporter": "python",
   "pygments_lexer": "ipython3",
   "version": "3.9.12"
  }
 },
 "nbformat": 4,
 "nbformat_minor": 5
}
