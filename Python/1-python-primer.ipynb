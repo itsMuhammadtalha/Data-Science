{
 "cells": [
  {
   "cell_type": "code",
   "execution_count": 1,
   "id": "d60451df",
   "metadata": {},
   "outputs": [
    {
     "name": "stdout",
     "output_type": "stream",
     "text": [
      "its a string\n"
     ]
    }
   ],
   "source": [
    "talha = \"its a string\"\n",
    "print(talha)"
   ]
  },
  {
   "cell_type": "code",
   "execution_count": 6,
   "id": "40a90f17",
   "metadata": {},
   "outputs": [
    {
     "name": "stdout",
     "output_type": "stream",
     "text": [
      "i am 21 years old\n"
     ]
    }
   ],
   "source": [
    "#embedding values in strings \n",
    "\n",
    "age = 21\n",
    "intro = \"i am %a years old\"\n",
    "print(intro %age)"
   ]
  },
  {
   "cell_type": "code",
   "execution_count": 9,
   "id": "df27bc20",
   "metadata": {},
   "outputs": [
    {
     "name": "stdout",
     "output_type": "stream",
     "text": [
      "what did the number 0 said to 8 ! nice belt\n"
     ]
    }
   ],
   "source": [
    "nums = \"what did the number %a said to %a ! nice belt\"\n",
    "print(nums % (0,8))"
   ]
  },
  {
   "cell_type": "code",
   "execution_count": 13,
   "id": "7e097df0",
   "metadata": {},
   "outputs": [
    {
     "name": "stdout",
     "output_type": "stream",
     "text": [
      "aa\n"
     ]
    }
   ],
   "source": [
    "mul = \"a\"*2\n",
    "print(mul)"
   ]
  },
  {
   "cell_type": "code",
   "execution_count": 15,
   "id": "352e2d47",
   "metadata": {},
   "outputs": [
    {
     "name": "stdout",
     "output_type": "stream",
     "text": [
      " karachi karachi karachi karachi karachi karachi karachi karachi karachi karachi\n"
     ]
    }
   ],
   "source": [
    "print(10*\" karachi\")"
   ]
  },
  {
   "cell_type": "code",
   "execution_count": 18,
   "id": "d5a13cd3",
   "metadata": {},
   "outputs": [
    {
     "name": "stdout",
     "output_type": "stream",
     "text": [
      "milk\n",
      "['water', 'lipton']\n"
     ]
    }
   ],
   "source": [
    "#list \n",
    "\n",
    "chai = [\"water\" , \"lipton\" , \"milk\" ,\"gas\" , \"dish\"]\n",
    "\n",
    "print(chai[2])\n",
    "\n",
    "print(chai[0:2])"
   ]
  },
  {
   "cell_type": "code",
   "execution_count": 21,
   "id": "df824fa2",
   "metadata": {},
   "outputs": [
    {
     "name": "stdout",
     "output_type": "stream",
     "text": [
      "[[1, 2, 3, 4], ['owais', 'naseer', 'talha']]\n"
     ]
    }
   ],
   "source": [
    "#adding list to a list \n",
    "\n",
    "number = [1,2,3,4]\n",
    "name = ['owais', 'naseer', 'talha']\n",
    "\n",
    "combine = [number , name ]\n",
    "\n",
    "print(combine)"
   ]
  },
  {
   "cell_type": "code",
   "execution_count": 22,
   "id": "62736d0d",
   "metadata": {},
   "outputs": [
    {
     "name": "stdout",
     "output_type": "stream",
     "text": [
      "[1, 2, 3, 4, 5]\n"
     ]
    }
   ],
   "source": [
    "#adding items to the list \n",
    "\n",
    "number.append(5)\n",
    "print(number)"
   ]
  },
  {
   "cell_type": "code",
   "execution_count": 30,
   "id": "ddf42135",
   "metadata": {},
   "outputs": [
    {
     "name": "stdout",
     "output_type": "stream",
     "text": [
      "[]\n"
     ]
    }
   ],
   "source": [
    "#remove items to the list \n",
    "\n",
    "del number[0:]\n",
    "print(number)"
   ]
  },
  {
   "cell_type": "code",
   "execution_count": 31,
   "id": "f414f186",
   "metadata": {},
   "outputs": [
    {
     "name": "stdout",
     "output_type": "stream",
     "text": [
      "['owais', 'naseer', 'talha']\n"
     ]
    }
   ],
   "source": [
    "print(number + name) #???"
   ]
  },
  {
   "cell_type": "code",
   "execution_count": 32,
   "id": "d9015016",
   "metadata": {},
   "outputs": [
    {
     "name": "stdout",
     "output_type": "stream",
     "text": [
      "[1, 2, 3, 4, 'I', 'ate', 'chocolate', 'and', 'I', 'want', 'more']\n"
     ]
    }
   ],
   "source": [
    "#adding lists\n",
    "\n",
    "list1 = [1, 2, 3, 4]\n",
    "list2 = ['I', 'ate', 'chocolate', 'and', 'I', 'want', 'more']\n",
    "list3 = list1 + list2\n",
    "print(list3)"
   ]
  },
  {
   "cell_type": "code",
   "execution_count": 33,
   "id": "1ac95551",
   "metadata": {},
   "outputs": [],
   "source": [
    "#division and multiplication of lists gives error "
   ]
  },
  {
   "cell_type": "code",
   "execution_count": 35,
   "id": "5e7e4607",
   "metadata": {},
   "outputs": [
    {
     "name": "stdout",
     "output_type": "stream",
     "text": [
      "['Ali, Football', 'Omer, Basketball', 'Osman, Baseball', 'Abu Bkar, Netball', 'Fatima, Badminton', 'Faizan, Rugby']\n"
     ]
    }
   ],
   "source": [
    "#dict\n",
    "favorite_sports = ['Ali, Football', 'Omer, Basketball', 'Osman, Baseball',\n",
    "'Abu Bkar, Netball', 'Fatima, Badminton', 'Faizan, Rugby']\n",
    "\n",
    "print(favorite_sports)"
   ]
  },
  {
   "cell_type": "code",
   "execution_count": 36,
   "id": "21b861b5",
   "metadata": {},
   "outputs": [
    {
     "name": "stdout",
     "output_type": "stream",
     "text": [
      "{'Ali': 'Football', 'Omer': 'Basketball', 'Osman': 'Baseball', 'Abu Bakr': 'Netball', 'Fatima': 'Badminton', 'Faizan': 'Rugby'}\n"
     ]
    }
   ],
   "source": [
    "\n",
    "favorite_sports = {'Ali' : 'Football',\n",
    "'Omer' : 'Basketball',\n",
    "'Osman' : 'Baseball',\n",
    "'Abu Bakr' : 'Netball',\n",
    "'Fatima' : 'Badminton',\n",
    "'Faizan' : 'Rugby'}\n",
    "\n",
    "print (favorite_sports)"
   ]
  },
  {
   "cell_type": "code",
   "execution_count": 39,
   "id": "03f7d49f",
   "metadata": {},
   "outputs": [
    {
     "name": "stdout",
     "output_type": "stream",
     "text": [
      "{'Ali': 'Football', 'Osman': 'Baseball', 'Abu Bakr': 'Netball', 'Fatima': 'Badminton', 'Faizan': 'Rugby'}\n"
     ]
    }
   ],
   "source": [
    "del favorite_sports[\"Omer\"]\n",
    "\n",
    "print (favorite_sports)"
   ]
  },
  {
   "cell_type": "markdown",
   "id": "4c3b5412",
   "metadata": {},
   "source": [
    "conditional\n"
   ]
  },
  {
   "cell_type": "code",
   "execution_count": 42,
   "id": "ae596e9e",
   "metadata": {},
   "outputs": [
    {
     "name": "stdout",
     "output_type": "stream",
     "text": [
      "he is an adult\n"
     ]
    }
   ],
   "source": [
    "age = 19\n",
    "if age>18:\n",
    "    print(\"he is an adult\")"
   ]
  },
  {
   "cell_type": "code",
   "execution_count": null,
   "id": "73d130bd",
   "metadata": {},
   "outputs": [],
   "source": [
    "# age=’10’\n",
    "if age == 10:\n",
    "print(\"What's the best way to speak to a monster?\")\n",
    "print(\"From as far away as possible!\")"
   ]
  },
  {
   "cell_type": "markdown",
   "id": "3fa00e1c",
   "metadata": {},
   "source": [
    "# loops"
   ]
  },
  {
   "cell_type": "code",
   "execution_count": 47,
   "id": "1f8bdec4",
   "metadata": {},
   "outputs": [
    {
     "name": "stdout",
     "output_type": "stream",
     "text": [
      "[0, 1, 2, 3, 4, 5, 6, 7, 8, 9]\n"
     ]
    }
   ],
   "source": [
    "print(list(range(0,10)))"
   ]
  },
  {
   "cell_type": "code",
   "execution_count": 51,
   "id": "ea1147ce",
   "metadata": {},
   "outputs": [
    {
     "name": "stdout",
     "output_type": "stream",
     "text": [
      "0\n",
      "1\n",
      "2\n",
      "3\n",
      "4\n",
      "5\n",
      "6\n",
      "7\n",
      "8\n",
      "9\n"
     ]
    }
   ],
   "source": [
    "for i in range(0,10):\n",
    "    print(i)"
   ]
  },
  {
   "cell_type": "code",
   "execution_count": 60,
   "id": "7cdb64e3",
   "metadata": {},
   "outputs": [],
   "source": [
    "def greet(fname, age):\n",
    "    name = fname \n",
    "    age = age\n",
    "    message = \"hello my name is %s and i am %s years old\"\n",
    "    print(message %(name,age))"
   ]
  },
  {
   "cell_type": "code",
   "execution_count": 61,
   "id": "781653a5",
   "metadata": {},
   "outputs": [
    {
     "name": "stdout",
     "output_type": "stream",
     "text": [
      "hello my name is talha and i am 21 years old\n"
     ]
    }
   ],
   "source": [
    "greet(\"talha\",21)"
   ]
  },
  {
   "cell_type": "markdown",
   "id": "1adf4086",
   "metadata": {},
   "source": [
    "# # modules"
   ]
  },
  {
   "cell_type": "code",
   "execution_count": 62,
   "id": "db53ed28",
   "metadata": {},
   "outputs": [],
   "source": [
    "import time"
   ]
  },
  {
   "cell_type": "code",
   "execution_count": 64,
   "id": "0ca36a5d",
   "metadata": {},
   "outputs": [
    {
     "name": "stdout",
     "output_type": "stream",
     "text": [
      "Sat Jan  7 11:26:09 2023\n"
     ]
    }
   ],
   "source": [
    "#The asctime() function converts time, stored as a structure pointed to by time, to a character string. You can obtain the time value from a call to the gmtime() , gmtime64() , localtime() , or localtime64() function.\n",
    "\n",
    "print(time.asctime())\n"
   ]
  },
  {
   "cell_type": "markdown",
   "id": "ddf604f8",
   "metadata": {},
   "source": [
    "# objects and classes"
   ]
  },
  {
   "cell_type": "code",
   "execution_count": 71,
   "id": "482365db",
   "metadata": {},
   "outputs": [],
   "source": [
    "#declare classes \n",
    "\n",
    "class vehicles:\n",
    "    def move(self):\n",
    "        pass\n",
    "class cars(vehicles):\n",
    "    pass\n",
    "class bikes(vehicles):\n",
    "    pass\n",
    "class suv(cars):\n",
    "    pass\n",
    "class cruiser_bikes(bikes):\n",
    "    pass"
   ]
  },
  {
   "cell_type": "code",
   "execution_count": 68,
   "id": "5217b5f7",
   "metadata": {},
   "outputs": [],
   "source": [
    "#adding objects to classes \n",
    "sportage = suv()"
   ]
  },
  {
   "cell_type": "code",
   "execution_count": 69,
   "id": "ea59c309",
   "metadata": {},
   "outputs": [],
   "source": [
    "class this_is_a_class:\n",
    "    def i_am_a_func_inside_class():\n",
    "        print(\"hey i am function inside the class \")"
   ]
  },
  {
   "cell_type": "code",
   "execution_count": null,
   "id": "fde86491",
   "metadata": {},
   "outputs": [],
   "source": []
  },
  {
   "cell_type": "code",
   "execution_count": null,
   "id": "4a855f78",
   "metadata": {},
   "outputs": [],
   "source": []
  },
  {
   "cell_type": "code",
   "execution_count": null,
   "id": "9c582e9e",
   "metadata": {},
   "outputs": [],
   "source": []
  }
 ],
 "metadata": {
  "kernelspec": {
   "display_name": "Python 3 (ipykernel)",
   "language": "python",
   "name": "python3"
  },
  "language_info": {
   "codemirror_mode": {
    "name": "ipython",
    "version": 3
   },
   "file_extension": ".py",
   "mimetype": "text/x-python",
   "name": "python",
   "nbconvert_exporter": "python",
   "pygments_lexer": "ipython3",
   "version": "3.9.12"
  }
 },
 "nbformat": 4,
 "nbformat_minor": 5
}
