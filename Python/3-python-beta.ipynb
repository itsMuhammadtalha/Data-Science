{
 "cells": [
  {
   "cell_type": "markdown",
   "id": "2997e584",
   "metadata": {},
   "source": [
    "# string slicing "
   ]
  },
  {
   "cell_type": "code",
   "execution_count": 1,
   "id": "5d1b808f",
   "metadata": {},
   "outputs": [],
   "source": [
    "name  = \"talha\""
   ]
  },
  {
   "cell_type": "code",
   "execution_count": 2,
   "id": "3f66af9c",
   "metadata": {},
   "outputs": [
    {
     "data": {
      "text/plain": [
       "'talha'"
      ]
     },
     "execution_count": 2,
     "metadata": {},
     "output_type": "execute_result"
    }
   ],
   "source": [
    "name "
   ]
  },
  {
   "cell_type": "code",
   "execution_count": 7,
   "id": "45a665c6",
   "metadata": {},
   "outputs": [
    {
     "data": {
      "text/plain": [
       "'ah'"
      ]
     },
     "execution_count": 7,
     "metadata": {},
     "output_type": "execute_result"
    }
   ],
   "source": [
    "name[1:5:2]"
   ]
  },
  {
   "cell_type": "code",
   "execution_count": 9,
   "id": "04dea2a2",
   "metadata": {},
   "outputs": [
    {
     "data": {
      "text/plain": [
       "'talh'"
      ]
     },
     "execution_count": 9,
     "metadata": {},
     "output_type": "execute_result"
    }
   ],
   "source": [
    "name[:4]"
   ]
  },
  {
   "cell_type": "code",
   "execution_count": 10,
   "id": "66bbde92",
   "metadata": {},
   "outputs": [
    {
     "data": {
      "text/plain": [
       "'lha'"
      ]
     },
     "execution_count": 10,
     "metadata": {},
     "output_type": "execute_result"
    }
   ],
   "source": [
    "name[2:]"
   ]
  },
  {
   "cell_type": "code",
   "execution_count": 11,
   "id": "96bd96e9",
   "metadata": {},
   "outputs": [],
   "source": [
    "# changing a letter \n",
    "\n",
    "my_name = \"umar\""
   ]
  },
  {
   "cell_type": "code",
   "execution_count": 12,
   "id": "27fba989",
   "metadata": {},
   "outputs": [
    {
     "ename": "TypeError",
     "evalue": "'str' object does not support item assignment",
     "output_type": "error",
     "traceback": [
      "\u001b[1;31m---------------------------------------------------------------------------\u001b[0m",
      "\u001b[1;31mTypeError\u001b[0m                                 Traceback (most recent call last)",
      "Input \u001b[1;32mIn [12]\u001b[0m, in \u001b[0;36m<cell line: 3>\u001b[1;34m()\u001b[0m\n\u001b[0;32m      1\u001b[0m \u001b[38;5;66;03m# if we want to change umar to Omar \u001b[39;00m\n\u001b[1;32m----> 3\u001b[0m my_name[\u001b[38;5;241m0\u001b[39m] \u001b[38;5;241m=\u001b[39m \u001b[38;5;124m\"\u001b[39m\u001b[38;5;124mo\u001b[39m\u001b[38;5;124m\"\u001b[39m\n",
      "\u001b[1;31mTypeError\u001b[0m: 'str' object does not support item assignment"
     ]
    }
   ],
   "source": [
    "# if we want to change umar to Omar \n",
    "\n",
    "my_name[0] = \"o\"   #!!!"
   ]
  },
  {
   "cell_type": "code",
   "execution_count": 17,
   "id": "5996646b",
   "metadata": {},
   "outputs": [
    {
     "data": {
      "text/plain": [
       "'omar'"
      ]
     },
     "execution_count": 17,
     "metadata": {},
     "output_type": "execute_result"
    }
   ],
   "source": [
    " updated_my_name = \"o\"+ my_name[1:]\n",
    "    \n",
    "updated_my_name    "
   ]
  },
  {
   "cell_type": "markdown",
   "id": "520c048b",
   "metadata": {},
   "source": [
    "# inserting into a string"
   ]
  },
  {
   "cell_type": "code",
   "execution_count": 2,
   "id": "8688080c",
   "metadata": {},
   "outputs": [
    {
     "data": {
      "text/plain": [
       "'my name is talha and'"
      ]
     },
     "execution_count": 2,
     "metadata": {},
     "output_type": "execute_result"
    }
   ],
   "source": [
    "name = \"my name is talha and\"\n",
    "\n",
    "name"
   ]
  },
  {
   "cell_type": "code",
   "execution_count": 10,
   "id": "d3508b67",
   "metadata": {},
   "outputs": [
    {
     "data": {
      "text/plain": [
       "'my name is talha and i am 20 years old'"
      ]
     },
     "execution_count": 10,
     "metadata": {},
     "output_type": "execute_result"
    }
   ],
   "source": [
    "name = \"my name is talha and {} {} {} {} {}\".format(\"i\" , \"am\" , \"20\" , \"years\" , \"old\")\n",
    "\n",
    "name "
   ]
  },
  {
   "cell_type": "code",
   "execution_count": 16,
   "id": "f2400795",
   "metadata": {},
   "outputs": [
    {
     "name": "stdout",
     "output_type": "stream",
     "text": [
      "Affan fetch me a glass of water\n"
     ]
    }
   ],
   "source": [
    "#we can also use indexing \n",
    "\n",
    "print(\"Affan fetch me a glass {0} {1}\".format( \"of\" , \"water\"))"
   ]
  },
  {
   "cell_type": "code",
   "execution_count": 20,
   "id": "b907101b",
   "metadata": {},
   "outputs": [
    {
     "data": {
      "text/plain": [
       "1.1363636363636365"
      ]
     },
     "execution_count": 20,
     "metadata": {},
     "output_type": "execute_result"
    }
   ],
   "source": [
    "result = 100/88\n",
    "\n",
    "result"
   ]
  },
  {
   "cell_type": "code",
   "execution_count": 21,
   "id": "b568ab5d",
   "metadata": {},
   "outputs": [
    {
     "name": "stdout",
     "output_type": "stream",
     "text": [
      "the result is 1.1363636363636365\n"
     ]
    }
   ],
   "source": [
    "\n",
    "print(\"the result is {r}\".format(r = result))\n",
    "\n"
   ]
  },
  {
   "cell_type": "code",
   "execution_count": 26,
   "id": "a3b07c3d",
   "metadata": {},
   "outputs": [
    {
     "name": "stdout",
     "output_type": "stream",
     "text": [
      "the result is      1.136\n"
     ]
    }
   ],
   "source": [
    "# format : “{value:width.precision f}”\n",
    "\n",
    "print(\"the result is {r:10.3f}\".format(r= result))"
   ]
  },
  {
   "cell_type": "code",
   "execution_count": 29,
   "id": "7798dd7c",
   "metadata": {},
   "outputs": [
    {
     "name": "stdout",
     "output_type": "stream",
     "text": [
      "hello , my name is Talha and i am 23 years old \n"
     ]
    }
   ],
   "source": [
    "# new method  (using f)\n",
    "\n",
    "Name = \"Talha\"\n",
    "Age = 23\n",
    "\n",
    "print(f\"hello , my name is {Name} and i am {Age} years old \")"
   ]
  },
  {
   "cell_type": "markdown",
   "id": "2391b63b",
   "metadata": {},
   "source": [
    "# input output"
   ]
  },
  {
   "cell_type": "code",
   "execution_count": 30,
   "id": "7df1fea5",
   "metadata": {},
   "outputs": [
    {
     "name": "stdout",
     "output_type": "stream",
     "text": [
      "Writing myfile.txt\n"
     ]
    }
   ],
   "source": [
    "%%writefile myfile.txt\n",
    "\n",
    "hellow this is demo text blablabla "
   ]
  },
  {
   "cell_type": "code",
   "execution_count": 31,
   "id": "4fe8aa48",
   "metadata": {},
   "outputs": [],
   "source": [
    "myfile = open('myfile.txt')"
   ]
  },
  {
   "cell_type": "code",
   "execution_count": 32,
   "id": "ed240228",
   "metadata": {},
   "outputs": [
    {
     "data": {
      "text/plain": [
       "<_io.TextIOWrapper name='myfile.txt' mode='r' encoding='cp1252'>"
      ]
     },
     "execution_count": 32,
     "metadata": {},
     "output_type": "execute_result"
    }
   ],
   "source": [
    "myfile"
   ]
  },
  {
   "cell_type": "code",
   "execution_count": 33,
   "id": "29e46b97",
   "metadata": {},
   "outputs": [
    {
     "data": {
      "text/plain": [
       "'\\nhellow this is demo text blablabla \\n'"
      ]
     },
     "execution_count": 33,
     "metadata": {},
     "output_type": "execute_result"
    }
   ],
   "source": [
    "myfile.read()"
   ]
  },
  {
   "cell_type": "code",
   "execution_count": 34,
   "id": "da09bc04",
   "metadata": {},
   "outputs": [
    {
     "data": {
      "text/plain": [
       "''"
      ]
     },
     "execution_count": 34,
     "metadata": {},
     "output_type": "execute_result"
    }
   ],
   "source": [
    "myfile.read() # \" \" bcz it is already at the end of file"
   ]
  },
  {
   "cell_type": "code",
   "execution_count": 35,
   "id": "27284d54",
   "metadata": {},
   "outputs": [
    {
     "data": {
      "text/plain": [
       "0"
      ]
     },
     "execution_count": 35,
     "metadata": {},
     "output_type": "execute_result"
    }
   ],
   "source": [
    "myfile.seek(0)  # reset the pointer "
   ]
  },
  {
   "cell_type": "code",
   "execution_count": 36,
   "id": "2d9c1b77",
   "metadata": {},
   "outputs": [
    {
     "data": {
      "text/plain": [
       "'\\nhellow this is demo text blablabla \\n'"
      ]
     },
     "execution_count": 36,
     "metadata": {},
     "output_type": "execute_result"
    }
   ],
   "source": [
    "myfile.read()"
   ]
  },
  {
   "cell_type": "code",
   "execution_count": 37,
   "id": "1a34b0a5",
   "metadata": {},
   "outputs": [
    {
     "data": {
      "text/plain": [
       "'C:\\\\Users\\\\mehmo\\\\Desktop\\\\Untitled Folder'"
      ]
     },
     "execution_count": 37,
     "metadata": {},
     "output_type": "execute_result"
    }
   ],
   "source": [
    "pwd"
   ]
  },
  {
   "cell_type": "code",
   "execution_count": 38,
   "id": "ff1ba924",
   "metadata": {},
   "outputs": [],
   "source": [
    "mylist = [(1,2),(3,4),(5,6)]"
   ]
  },
  {
   "cell_type": "code",
   "execution_count": 40,
   "id": "da246108",
   "metadata": {},
   "outputs": [
    {
     "name": "stdout",
     "output_type": "stream",
     "text": [
      "2\n",
      "4\n",
      "6\n"
     ]
    }
   ],
   "source": [
    "#printing the last elemt of tuple\n",
    "for (a,b) in mylist:\n",
    "    print(b)"
   ]
  },
  {
   "cell_type": "markdown",
   "id": "ae265486",
   "metadata": {},
   "source": [
    "# dictionary and loops"
   ]
  },
  {
   "cell_type": "code",
   "execution_count": 42,
   "id": "c9174d3e",
   "metadata": {},
   "outputs": [
    {
     "name": "stdout",
     "output_type": "stream",
     "text": [
      "k1\n",
      "k2\n",
      "k3\n"
     ]
    }
   ],
   "source": [
    "mydict = {\"k1\":1 , \"k2\":2 , \"k3\":3}\n",
    "\n",
    "for key in mydict:\n",
    "    print(key)"
   ]
  },
  {
   "cell_type": "code",
   "execution_count": 44,
   "id": "16d3e735",
   "metadata": {},
   "outputs": [
    {
     "name": "stdout",
     "output_type": "stream",
     "text": [
      "('k1', 1)\n",
      "('k2', 2)\n",
      "('k3', 3)\n"
     ]
    }
   ],
   "source": [
    "for value in mydict.items():\n",
    "    print(value)"
   ]
  },
  {
   "cell_type": "code",
   "execution_count": 48,
   "id": "32a030ab",
   "metadata": {},
   "outputs": [
    {
     "name": "stdout",
     "output_type": "stream",
     "text": [
      "1\n",
      "2\n",
      "3\n"
     ]
    }
   ],
   "source": [
    "for key,value in mydict.items():\n",
    "    print(value)"
   ]
  },
  {
   "cell_type": "markdown",
   "id": "aab2c471",
   "metadata": {},
   "source": [
    "# list comprehension"
   ]
  },
  {
   "cell_type": "code",
   "execution_count": 53,
   "id": "89dc5e87",
   "metadata": {},
   "outputs": [],
   "source": [
    "numbers = [nums for nums in range(0,10) if nums%2==0]"
   ]
  },
  {
   "cell_type": "code",
   "execution_count": 54,
   "id": "984a8899",
   "metadata": {},
   "outputs": [
    {
     "data": {
      "text/plain": [
       "[0, 2, 4, 6, 8]"
      ]
     },
     "execution_count": 54,
     "metadata": {},
     "output_type": "execute_result"
    }
   ],
   "source": [
    "numbers"
   ]
  },
  {
   "cell_type": "markdown",
   "id": "74653fc9",
   "metadata": {},
   "source": [
    "# function and error handling\n"
   ]
  },
  {
   "cell_type": "code",
   "execution_count": 7,
   "id": "c1ee991e",
   "metadata": {},
   "outputs": [
    {
     "name": "stdout",
     "output_type": "stream",
     "text": [
      "the type of year is valid \n"
     ]
    },
    {
     "data": {
      "text/plain": [
       "True"
      ]
     },
     "execution_count": 7,
     "metadata": {},
     "output_type": "execute_result"
    }
   ],
   "source": [
    "#if the assert statement is correct then move to next line , if not then show the following line \n",
    "\n",
    "def check_type(year):\n",
    "    assert type(year) == int ,'the type must be int' \n",
    "    print(\"the type of year is valid \" )\n",
    "    return True\n",
    "    \n",
    "check_type(2010)\n",
    "\n"
   ]
  },
  {
   "cell_type": "code",
   "execution_count": 8,
   "id": "ce8a8d2e",
   "metadata": {},
   "outputs": [
    {
     "ename": "AssertionError",
     "evalue": "the type must be int",
     "output_type": "error",
     "traceback": [
      "\u001b[1;31m---------------------------------------------------------------------------\u001b[0m",
      "\u001b[1;31mAssertionError\u001b[0m                            Traceback (most recent call last)",
      "Input \u001b[1;32mIn [8]\u001b[0m, in \u001b[0;36m<cell line: 1>\u001b[1;34m()\u001b[0m\n\u001b[1;32m----> 1\u001b[0m \u001b[43mcheck_type\u001b[49m\u001b[43m(\u001b[49m\u001b[38;5;241;43m2010.6\u001b[39;49m\u001b[43m)\u001b[49m\n",
      "Input \u001b[1;32mIn [7]\u001b[0m, in \u001b[0;36mcheck_type\u001b[1;34m(year)\u001b[0m\n\u001b[0;32m      1\u001b[0m \u001b[38;5;28;01mdef\u001b[39;00m \u001b[38;5;21mcheck_type\u001b[39m(year):\n\u001b[1;32m----> 2\u001b[0m     \u001b[38;5;28;01massert\u001b[39;00m \u001b[38;5;28mtype\u001b[39m(year) \u001b[38;5;241m==\u001b[39m \u001b[38;5;28mint\u001b[39m ,\u001b[38;5;124m'\u001b[39m\u001b[38;5;124mthe type must be int\u001b[39m\u001b[38;5;124m'\u001b[39m \n\u001b[0;32m      3\u001b[0m     \u001b[38;5;28mprint\u001b[39m(\u001b[38;5;124m\"\u001b[39m\u001b[38;5;124mthe type of year is valid \u001b[39m\u001b[38;5;124m\"\u001b[39m )\n\u001b[0;32m      4\u001b[0m     \u001b[38;5;28;01mreturn\u001b[39;00m \u001b[38;5;28;01mTrue\u001b[39;00m\n",
      "\u001b[1;31mAssertionError\u001b[0m: the type must be int"
     ]
    }
   ],
   "source": [
    "check_type(2010.6)"
   ]
  },
  {
   "cell_type": "code",
   "execution_count": 48,
   "id": "e7421580",
   "metadata": {},
   "outputs": [],
   "source": [
    "x = open(r\"myfile.txt\",\"r\")"
   ]
  },
  {
   "cell_type": "code",
   "execution_count": 49,
   "id": "bddbaf98",
   "metadata": {},
   "outputs": [],
   "source": [
    "data = []\n"
   ]
  },
  {
   "cell_type": "code",
   "execution_count": 50,
   "id": "1a8112ac",
   "metadata": {},
   "outputs": [],
   "source": [
    "for row in x :\n",
    "    r = row.strip('\\n') #remove \\n \n",
    "    data.append(r)\n",
    "    \n",
    "x.close()    "
   ]
  },
  {
   "cell_type": "code",
   "execution_count": 51,
   "id": "00d97a75",
   "metadata": {},
   "outputs": [
    {
     "data": {
      "text/plain": [
       "['hellow this is demo text blablabla ', '1', '2', '3', '4', '5', '6', '']"
      ]
     },
     "execution_count": 51,
     "metadata": {},
     "output_type": "execute_result"
    }
   ],
   "source": [
    "data"
   ]
  },
  {
   "cell_type": "markdown",
   "id": "808b6b56",
   "metadata": {},
   "source": [
    "# writing in a file "
   ]
  },
  {
   "cell_type": "code",
   "execution_count": 54,
   "id": "cd29f3e5",
   "metadata": {},
   "outputs": [],
   "source": [
    "greek = [\"alpha\" , \"beta\" , \"gamma\"]\n",
    "\n",
    "with open(\"greek.txt\", \"w\") as g:\n",
    "    for i in greek:\n",
    "        g.write(i)\n",
    "        g.write(\"\\n\")\n",
    "        \n"
   ]
  },
  {
   "cell_type": "code",
   "execution_count": 57,
   "id": "fc8a98ef",
   "metadata": {},
   "outputs": [
    {
     "name": "stdout",
     "output_type": "stream",
     "text": [
      "0 alpha\n",
      "1 beta\n",
      "2 gamma\n"
     ]
    }
   ],
   "source": [
    "# enumerate returns the index as well as the value \n",
    "for i , j in enumerate(greek):\n",
    "    print(i, j )"
   ]
  },
  {
   "cell_type": "code",
   "execution_count": 58,
   "id": "0444166a",
   "metadata": {},
   "outputs": [
    {
     "name": "stdout",
     "output_type": "stream",
     "text": [
      "the number of observarions are : 12\n"
     ]
    }
   ],
   "source": [
    "#working with a csv file \n",
    "\n",
    "filename = \"temp.csv\"\n",
    "\n",
    "observation = []\n",
    "\n",
    "count = 0\n",
    "\n",
    "with open(filename , \"r\") as tempfile:\n",
    "    \n",
    "    #skip the header\n",
    "    \n",
    "    header = tempfile.__next__()\n",
    "    \n",
    "    for row in tempfile:\n",
    "        \n",
    "        observation.append(row.strip(\"\\n\"))\n",
    "        \n",
    "        count+=1\n",
    "        \n",
    "print(f\"the number of observarions are : {count}\")        "
   ]
  },
  {
   "cell_type": "markdown",
   "id": "d0d5a8ce",
   "metadata": {},
   "source": [
    "# class "
   ]
  },
  {
   "cell_type": "code",
   "execution_count": 65,
   "id": "dc4a93c3",
   "metadata": {},
   "outputs": [],
   "source": [
    "class fruit :\n",
    "    \n",
    "    def __init__(self , name , nutrients):\n",
    "        try:\n",
    "            assert type(nutrients) == list\n",
    "        except AssertionError:\n",
    "            print(\"the type must be list\")\n",
    "            raise Exception \n",
    "        self.name = name \n",
    "        self.nutrients = nutrients \n",
    "        self.is_ripe = False\n",
    "        \n",
    "    def get_name(self):\n",
    "        return self.name \n",
    "    \n",
    "    def get_nutrients(self):\n",
    "        print(self.name + \"has the following nutrients : \")\n",
    "        for i in self.nutrients :\n",
    "            print(i + \",\")\n",
    "            \n",
    "        \n",
    "            \n",
    "            \n",
    "                \n",
    "                "
   ]
  },
  {
   "cell_type": "code",
   "execution_count": 66,
   "id": "06996e91",
   "metadata": {},
   "outputs": [],
   "source": [
    "apple = fruit(name = \"apple\" , nutrients = [\"vitamin A\" , \"protein\" , \"carbs\"])"
   ]
  },
  {
   "cell_type": "code",
   "execution_count": 67,
   "id": "3405960f",
   "metadata": {},
   "outputs": [
    {
     "name": "stdout",
     "output_type": "stream",
     "text": [
      "applehas the following nutrients : \n",
      "vitamin A,\n",
      "protein,\n",
      "carbs,\n"
     ]
    }
   ],
   "source": [
    "apple.get_nutrients()"
   ]
  },
  {
   "cell_type": "code",
   "execution_count": 68,
   "id": "cf0c25e9",
   "metadata": {},
   "outputs": [],
   "source": [
    "#child class \n",
    "\n",
    "class citrus(fruit):\n",
    "    def __init__(self ,name ,nutrients):\n",
    "        super().__init__(name , nutrients)\n",
    "        self.type = \"citrus\"\n",
    "        self.charachteristic = \"juicy\"\n",
    "        \n",
    "    def get_type(self):\n",
    "        return self.type\n",
    "    \n",
    "            "
   ]
  },
  {
   "cell_type": "code",
   "execution_count": 69,
   "id": "26de3076",
   "metadata": {},
   "outputs": [],
   "source": [
    "orange = citrus(name = \"orange\" , nutrients = [\"vitamin C\" , \"protein\" , \"carbs\"])"
   ]
  },
  {
   "cell_type": "code",
   "execution_count": 72,
   "id": "f7ecc2fb",
   "metadata": {},
   "outputs": [
    {
     "data": {
      "text/plain": [
       "'orange'"
      ]
     },
     "execution_count": 72,
     "metadata": {},
     "output_type": "execute_result"
    }
   ],
   "source": [
    "orange.get_name()"
   ]
  },
  {
   "cell_type": "code",
   "execution_count": 73,
   "id": "e7f48475",
   "metadata": {},
   "outputs": [
    {
     "data": {
      "text/plain": [
       "'citrus'"
      ]
     },
     "execution_count": 73,
     "metadata": {},
     "output_type": "execute_result"
    }
   ],
   "source": [
    "orange.get_type()"
   ]
  },
  {
   "cell_type": "code",
   "execution_count": 74,
   "id": "acaa6291",
   "metadata": {},
   "outputs": [
    {
     "name": "stdout",
     "output_type": "stream",
     "text": [
      "orangehas the following nutrients : \n",
      "vitamin C,\n",
      "protein,\n",
      "carbs,\n"
     ]
    }
   ],
   "source": [
    "orange.get_nutrients()"
   ]
  },
  {
   "cell_type": "code",
   "execution_count": null,
   "id": "ef369429",
   "metadata": {},
   "outputs": [],
   "source": []
  }
 ],
 "metadata": {
  "kernelspec": {
   "display_name": "Python 3 (ipykernel)",
   "language": "python",
   "name": "python3"
  },
  "language_info": {
   "codemirror_mode": {
    "name": "ipython",
    "version": 3
   },
   "file_extension": ".py",
   "mimetype": "text/x-python",
   "name": "python",
   "nbconvert_exporter": "python",
   "pygments_lexer": "ipython3",
   "version": "3.9.12"
  }
 },
 "nbformat": 4,
 "nbformat_minor": 5
}
