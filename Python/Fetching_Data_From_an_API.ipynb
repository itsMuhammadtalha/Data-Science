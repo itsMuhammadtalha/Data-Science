{
  "nbformat": 4,
  "nbformat_minor": 0,
  "metadata": {
    "colab": {
      "provenance": []
    },
    "kernelspec": {
      "name": "python3",
      "display_name": "Python 3"
    },
    "language_info": {
      "name": "python"
    }
  },
  "cells": [
    {
      "cell_type": "code",
      "execution_count": 3,
      "metadata": {
        "colab": {
          "base_uri": "https://localhost:8080/"
        },
        "id": "91w_jLhYHcTI",
        "outputId": "7df3b68e-b0e0-43e0-b69d-7e04bbf798e5"
      },
      "outputs": [
        {
          "output_type": "stream",
          "name": "stderr",
          "text": [
            "IOPub data rate exceeded.\n",
            "The notebook server will temporarily stop sending output\n",
            "to the client in order to avoid crashing it.\n",
            "To change this limit, set the config variable\n",
            "`--NotebookApp.iopub_data_rate_limit`.\n",
            "\n",
            "Current values:\n",
            "NotebookApp.iopub_data_rate_limit=1000000.0 (bytes/sec)\n",
            "NotebookApp.rate_limit_window=3.0 (secs)\n",
            "\n"
          ]
        }
      ],
      "source": [
        " #This example uses Python 2.7 and the python-request library.\n",
        "\n",
        "from requests import Request, Session\n",
        "from requests.exceptions import ConnectionError, Timeout, TooManyRedirects\n",
        "import json\n",
        "\n",
        "url = 'https://pro-api.coinmarketcap.com/v1/cryptocurrency/listings/latest'\n",
        "parameters = {\n",
        "  'start':'1',\n",
        "  'limit':'5000',\n",
        "  'convert':'USD'\n",
        "}\n",
        "headers = {\n",
        "  'Accepts': 'application/json',\n",
        "  'X-CMC_PRO_API_KEY': 'af0ba4b0-f92b-4836-8cdb-a6ddc7d3ac12',\n",
        "}\n",
        "\n",
        "session = Session()\n",
        "session.headers.update(headers)\n",
        "\n",
        "try:\n",
        "  response = session.get(url, params=parameters)\n",
        "  data = json.loads(response.text)\n",
        "  print(data)\n",
        "except (ConnectionError, Timeout, TooManyRedirects) as e:\n",
        "  print(e)"
      ]
    },
    {
      "cell_type": "code",
      "source": [],
      "metadata": {
        "id": "4ko_xAcfMknD"
      },
      "execution_count": null,
      "outputs": []
    }
  ]
}